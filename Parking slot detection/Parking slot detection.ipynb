{
 "cells": [
  {
   "cell_type": "code",
   "execution_count": 1,
   "id": "9896caf1-bb28-46e2-a917-a8d5d8d9a292",
   "metadata": {},
   "outputs": [
    {
     "name": "stderr",
     "output_type": "stream",
     "text": [
      "c:\\Users\\user\\anaconda3\\Lib\\site-packages\\sklearn\\base.py:347: InconsistentVersionWarning: Trying to unpickle estimator SVC from version 1.2.2 when using version 1.3.0. This might lead to breaking code or invalid results. Use at your own risk. For more info please refer to:\n",
      "https://scikit-learn.org/stable/model_persistence.html#security-maintainability-limitations\n",
      "  warnings.warn(\n"
     ]
    }
   ],
   "source": [
    "import cv2 \n",
    "import os\n",
    "import numpy as np\n",
    "\n",
    "from util import get_parking_spots_bboxes, empty_or_not, calc_diff"
   ]
  },
  {
   "cell_type": "code",
   "execution_count": 2,
   "id": "34bcbfd5-cd76-4b44-b6fa-761e7b282888",
   "metadata": {},
   "outputs": [],
   "source": [
    "# Загрузить маску\n",
    "mask = os.path.join('.', 'mask_1920_1080.png')\n",
    "mask = cv2.imread(mask, 0)"
   ]
  },
  {
   "cell_type": "code",
   "execution_count": 3,
   "id": "df29d3bd-480d-4020-b5e9-1dda959bde71",
   "metadata": {},
   "outputs": [
    {
     "name": "stdout",
     "output_type": "stream",
     "text": [
      "[533, 98, 65, 35]\n"
     ]
    }
   ],
   "source": [
    "# В переменную spots кладутся координаты мест для парковки\n",
    "connected_components = cv2.connectedComponentsWithStats(mask, 4, cv2.CV_32S)\n",
    "spots = get_parking_spots_bboxes(connected_components)\n",
    "print(spots[0])"
   ]
  },
  {
   "cell_type": "code",
   "execution_count": 4,
   "id": "e47a3810",
   "metadata": {},
   "outputs": [],
   "source": [
    "# Переменные для предиктов\n",
    "step = 60 # Частота предикта (раз в 60 сек)\n",
    "spots_status = [None for j in spots] # Список всех статусов мест парковок\n",
    "diffs = [None for j in spots] # Здесь хранятся разницы между предыдущим и текущим кадром. При изменении будет делать предикт\n",
    "frame_num = 0 # Счётчик кадров\n",
    "previous_frame = None # Хранит данные о предыдущем кадре, duh"
   ]
  },
  {
   "cell_type": "code",
   "execution_count": 5,
   "id": "31e6f7d3-ca3f-4504-aa63-73670fd6ec1a",
   "metadata": {},
   "outputs": [],
   "source": [
    "# Загрузить видео\n",
    "video_path = os.path.join('.', 'data', 'parking_1920_1080_loop.mp4')\n",
    "video = cv2.VideoCapture(video_path)\n",
    "\n",
    "# Проиграть видео\n",
    "ret = True\n",
    "while ret:\n",
    "    ret, frame = video.read()\n",
    "\n",
    "    if frame_num % step == 0 and previous_frame is not None:\n",
    "        for spot_index, spot in enumerate(spots): # Цикл заполнения списка diffs разницей между предыдущим кадром и текущим\n",
    "            x1, y1, w, h = spot\n",
    "            spot_crop = frame[y1:y1+h, x1:x1+w, :]\n",
    "            diffs[spot_index] = calc_diff(spot_crop, previous_frame[y1:y1+h, x1:x1+w, :])\n",
    "\n",
    "    if frame_num % step == 0:\n",
    "        if previous_frame is None:\n",
    "            arr_ = range(len(spots))\n",
    "        else:\n",
    "            arr_ = [j for j in np.argsort(diffs) if diffs[j] / np.max(diffs) > 0.4] \n",
    "        # Цикл предикта для каждого места парковки. \n",
    "        # Работает, только на кадрах, разница средних которых попадает в \n",
    "        # большие 60% diffs[j] / np.max(diffs), то есть выбросы. \n",
    "        for spot_index in arr_:\n",
    "            spot = spots[spot_index]\n",
    "            x1, y1, w, h = spot\n",
    "            spot_crop = frame[y1:y1+h, x1:x1+w, :]\n",
    "            spot_status = empty_or_not(spot_crop) # Обученная модель определяет статус парковочного места\n",
    "            spots_status[spot_index] = spot_status \n",
    "\n",
    "    if frame_num % step == 0:\n",
    "        previous_frame = frame.copy() # Сохраняет в previous_frame текущий кадр\n",
    "            \n",
    "    for spot_index, spot in enumerate(spots): # Цикл рисования прямоугольников в соответствии с предиктом\n",
    "        spot_status = spots_status[spot_index]\n",
    "        x1, y1, w, h = spots[spot_index]\n",
    "        if spot_status:\n",
    "            frame = cv2.rectangle(frame, (x1, y1), (x1+w, y1+h), (0, 255, 0) ,2)\n",
    "        else:\n",
    "            frame = cv2.rectangle(frame, (x1, y1), (x1+w, y1+h), (0, 0, 255) ,2)\n",
    "    \n",
    "    # Счётчик доступных мест с фоном\n",
    "    cv2.rectangle(frame, (80, 20), (660, 80), (0, 0, 0), -1)\n",
    "    cv2.putText(frame, f'Available parking places: {str(sum(spots_status))}/{str(len(spots_status))}', (100,60), cv2.FONT_HERSHEY_SIMPLEX, 1, (255, 255, 255), 2)\n",
    "\n",
    "    cv2.namedWindow('frame', cv2.WINDOW_NORMAL)\n",
    "    cv2.imshow('frame', frame)\n",
    "    if  cv2.waitKey(25) % 0xFF == ord('q'):\n",
    "        break\n",
    "        \n",
    "    frame_num += 1\n",
    "        \n",
    "video.release()\n",
    "cv2.destroyAllWindows()"
   ]
  }
 ],
 "metadata": {
  "kernelspec": {
   "display_name": "Python 3 (ipykernel)",
   "language": "python",
   "name": "python3"
  },
  "language_info": {
   "codemirror_mode": {
    "name": "ipython",
    "version": 3
   },
   "file_extension": ".py",
   "mimetype": "text/x-python",
   "name": "python",
   "nbconvert_exporter": "python",
   "pygments_lexer": "ipython3",
   "version": "3.11.5"
  }
 },
 "nbformat": 4,
 "nbformat_minor": 5
}
