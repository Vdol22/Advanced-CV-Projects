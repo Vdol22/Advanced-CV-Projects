{
 "cells": [
  {
   "cell_type": "code",
   "execution_count": 1,
   "id": "9896caf1-bb28-46e2-a917-a8d5d8d9a292",
   "metadata": {},
   "outputs": [],
   "source": [
    "import cv2\n",
    "import os\n",
    "\n",
    "from util import get_parking_spots_bboxes, empty_or_not"
   ]
  },
  {
   "cell_type": "code",
   "execution_count": 5,
   "id": "34bcbfd5-cd76-4b44-b6fa-761e7b282888",
   "metadata": {},
   "outputs": [],
   "source": [
    "# Загрузить маску\n",
    "mask = os.path.join('.', 'mask_1920_1080.png')\n",
    "mask = cv2.imread(mask, 0)"
   ]
  },
  {
   "cell_type": "code",
   "execution_count": 6,
   "id": "df29d3bd-480d-4020-b5e9-1dda959bde71",
   "metadata": {},
   "outputs": [
    {
     "name": "stdout",
     "output_type": "stream",
     "text": [
      "[533, 98, 65, 35]\n"
     ]
    }
   ],
   "source": [
    "# В переменную spots кладутся координаты слотов для парковки\n",
    "connected_components = cv2.connectedComponentsWithStats(mask, 4, cv2.CV_32S)\n",
    "spots = get_parking_spots_bboxes(connected_components)\n",
    "print(spots[0])"
   ]
  },
  {
   "cell_type": "code",
   "execution_count": 11,
   "id": "31e6f7d3-ca3f-4504-aa63-73670fd6ec1a",
   "metadata": {},
   "outputs": [],
   "source": [
    "# Загрузить видео\n",
    "video_path = os.path.join('.', 'data', 'parking_1920_1080_loop.mp4')\n",
    "video = cv2.VideoCapture(video_path)\n",
    "\n",
    "# Переменные для предиктов\n",
    "step = 60 # Частота предикта (60 сек)\n",
    "spots_status = [None for j in spots] # Список всех статусов мест парковок\n",
    "frame_num = 0 # Счётчик кадров\n",
    "\n",
    "# Проиграть видео\n",
    "ret = True\n",
    "while ret:\n",
    "    ret, frame = video.read()\n",
    "\n",
    "    if frame_num % step == 0:\n",
    "        for spot_index, spot in enumerate(spots):\n",
    "            x1, y1, w, h = spot\n",
    "            spot_crop = frame[y1:y1+h, x1:x1+w, :]\n",
    "            spot_status = empty_or_not(spot_crop) # Обученная модель определяет статус парковочного места\n",
    "            spots_status[spot_index] = spot_status \n",
    "            \n",
    "    for spot_index, spot in enumerate(spots):\n",
    "        spot_status = spots_status[spot_index]\n",
    "        x1, y1, w, h = spots[spot_index]\n",
    "        if spot_status:\n",
    "            frame = cv2.rectangle(frame, (x1, y1), (x1+w, y1+h), (0, 255, 0) ,2)\n",
    "        else:\n",
    "            frame = cv2.rectangle(frame, (x1, y1), (x1+w, y1+h), (0, 0, 255) ,2)\n",
    "    cv2.namedWindow('frame', cv2.WINDOW_NORMAL)\n",
    "    cv2.imshow('frame', frame)\n",
    "    if  cv2.waitKey(25) % 0xFF == ord('q'):\n",
    "        break\n",
    "        \n",
    "    frame_num += 1\n",
    "        \n",
    "video.release()\n",
    "cv2.destroyAllWindows()"
   ]
  },
  {
   "cell_type": "code",
   "execution_count": null,
   "id": "5fa976ff-0619-4160-9a45-0b17008cbe13",
   "metadata": {},
   "outputs": [],
   "source": []
  },
  {
   "cell_type": "code",
   "execution_count": null,
   "id": "ca89e9f9-59de-49be-b180-c9104917cdde",
   "metadata": {},
   "outputs": [],
   "source": []
  }
 ],
 "metadata": {
  "kernelspec": {
   "display_name": "Python 3 (ipykernel)",
   "language": "python",
   "name": "python3"
  },
  "language_info": {
   "codemirror_mode": {
    "name": "ipython",
    "version": 3
   },
   "file_extension": ".py",
   "mimetype": "text/x-python",
   "name": "python",
   "nbconvert_exporter": "python",
   "pygments_lexer": "ipython3",
   "version": "3.10.13"
  }
 },
 "nbformat": 4,
 "nbformat_minor": 5
}
